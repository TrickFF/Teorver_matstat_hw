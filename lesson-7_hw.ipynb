{
 "cells": [
  {
   "cell_type": "markdown",
   "metadata": {},
   "source": [
    "### Задача 1\n",
    "\n",
    "Дана матрица объект-признак\n",
    "\n",
    "X = [[ 1.22401313, 2.30868478, 3.03636353, 2.69287214],\n",
    "[-0.18757272, 1.30337355, 5.12093014, 3.46363202],\n",
    "[-0.81094525, 1.82463398, 5.79686488, 1.86159445],\n",
    "[ 0.75129018, 2.67392052, 3.65529809, 1.66746094],\n",
    "[ 0.00972362, 1.97367255, 2.50594319, 1.69755173],\n",
    "[-0.62972637, 0.77750764, 2.84124027, 4.54410559],\n",
    "[ 2.29536229, 1.81206697, 1.95026215, 1.51874636],\n",
    "[ 0.0920418 , 2.26971361, 7.47708735, 2.61081203],\n",
    "[ 2.39252799, 3.17563985, 3.61420599, 5.10773362],\n",
    "[ 0.54983815, 2.87988651, 1.65752765, 1.59635987]]\n",
    "\n",
    "и значения целевой переменной\n",
    "\n",
    "y = [ 9.26193358, 9.700363 , 8.67214805, 8.74796974, 6.18689108,\n",
    "7.53312713, 7.57643777, 12.44965478, 14.29010746, 6.68361218]\n",
    "\n",
    "Подберите два признака (из четырёх) так, чтобы уровень линейной зависимости целевой переменной от значений этих признаков был максимальным. Другими словами, модель линейной регрессии на этих признаках должна давать наилучший результат.\n",
    "Является ли значимым получившееся уравнение регрессии?"
   ]
  },
  {
   "cell_type": "code",
   "execution_count": 57,
   "metadata": {},
   "outputs": [],
   "source": [
    "import numpy as np"
   ]
  },
  {
   "cell_type": "code",
   "execution_count": 58,
   "metadata": {},
   "outputs": [],
   "source": [
    "X = np.array([[ 1.22401313, 2.30868478, 3.03636353, 2.69287214],\n",
    "     [-0.18757272, 1.30337355, 5.12093014, 3.46363202],\n",
    "     [-0.81094525, 1.82463398, 5.79686488, 1.86159445],\n",
    "     [ 0.75129018, 2.67392052, 3.65529809, 1.66746094],\n",
    "     [ 0.00972362, 1.97367255, 2.50594319, 1.69755173],\n",
    "     [-0.62972637, 0.77750764, 2.84124027, 4.54410559],\n",
    "     [ 2.29536229, 1.81206697, 1.95026215, 1.51874636],\n",
    "     [ 0.0920418 , 2.26971361, 7.47708735, 2.61081203],\n",
    "     [ 2.39252799, 3.17563985, 3.61420599, 5.10773362],\n",
    "     [ 0.54983815, 2.87988651, 1.65752765, 1.59635987]])"
   ]
  },
  {
   "cell_type": "code",
   "execution_count": 59,
   "metadata": {},
   "outputs": [],
   "source": [
    "y = np.array([ 9.26193358, 9.700363 , 8.67214805, 8.74796974,\n",
    "     6.18689108, 7.53312713, 7.57643777, 12.44965478,\n",
    "     14.29010746, 6.68361218])"
   ]
  },
  {
   "cell_type": "code",
   "execution_count": 61,
   "metadata": {},
   "outputs": [
    {
     "data": {
      "text/plain": [
       "array([ 1.22401313, -0.18757272, -0.81094525,  0.75129018,  0.00972362,\n",
       "       -0.62972637,  2.29536229,  0.0920418 ,  2.39252799,  0.54983815])"
      ]
     },
     "execution_count": 61,
     "metadata": {},
     "output_type": "execute_result"
    }
   ],
   "source": [
    "x1 = X[:,0]\n",
    "x2 = X[:,1]\n",
    "x3 = X[:,2]\n",
    "x4 = X[:,3]\n",
    "x1"
   ]
  },
  {
   "cell_type": "code",
   "execution_count": 62,
   "metadata": {},
   "outputs": [],
   "source": [
    "# Получаем нужную форму\n",
    "x12 = np.vstack([x1,x2]).T\n",
    "x13 = np.vstack([x1,x3]).T\n",
    "x14 = np.vstack([x1,x4]).T\n",
    "x23 = np.vstack([x2,x3]).T\n",
    "x24 = np.vstack([x2,x4]).T\n",
    "x34 = np.vstack([x3,x4]).T\n",
    "y = np.array(y)"
   ]
  },
  {
   "cell_type": "code",
   "execution_count": 63,
   "metadata": {},
   "outputs": [
    {
     "data": {
      "text/plain": [
       "((10, 2), (10,))"
      ]
     },
     "execution_count": 63,
     "metadata": {},
     "output_type": "execute_result"
    }
   ],
   "source": [
    "x12.shape, y.shape"
   ]
  },
  {
   "cell_type": "code",
   "execution_count": 64,
   "metadata": {},
   "outputs": [
    {
     "data": {
      "text/plain": [
       "(10, 3)"
      ]
     },
     "execution_count": 64,
     "metadata": {},
     "output_type": "execute_result"
    }
   ],
   "source": [
    "# Добавляем единичный столбец\n",
    "ones = np.ones((x12.shape[0], 1))\n",
    "x12 = np.hstack((ones, x12))\n",
    "x13 = np.hstack((ones, x13))\n",
    "x14 = np.hstack((ones, x14))\n",
    "x23 = np.hstack((ones, x23))\n",
    "x24 = np.hstack((ones, x24))\n",
    "x34 = np.hstack((ones, x34))\n",
    "x12.shape"
   ]
  },
  {
   "cell_type": "code",
   "execution_count": 66,
   "metadata": {},
   "outputs": [
    {
     "data": {
      "text/plain": [
       "(349.7782033818831,\n",
       " 2835.3600226240965,\n",
       " 1689.2124743606096,\n",
       " 1427.8125776081442,\n",
       " 701.7327364453139,\n",
       " 4547.328074863329)"
      ]
     },
     "execution_count": 66,
     "metadata": {},
     "output_type": "execute_result"
    }
   ],
   "source": [
    "# Запишем матрицы  𝑋⊤𝑋  и посчитаем определители\n",
    "XTX12 = x12.T.dot(x12)\n",
    "XTX13 = x13.T.dot(x13)\n",
    "XTX14 = x14.T.dot(x14)\n",
    "XTX23 = x23.T.dot(x23)\n",
    "XTX24 = x24.T.dot(x24)\n",
    "XTX34 = x34.T.dot(x34)\n",
    "np.linalg.det(XTX12), np.linalg.det(XTX13), np.linalg.det(XTX14), np.linalg.det(XTX23), np.linalg.det(XTX24), np.linalg.det(XTX34)"
   ]
  },
  {
   "cell_type": "markdown",
   "metadata": {},
   "source": [
    "Определиетли не близки к 0, можно искать коэффициенты"
   ]
  },
  {
   "cell_type": "code",
   "execution_count": 68,
   "metadata": {},
   "outputs": [
    {
     "data": {
      "text/plain": [
       "(array([6.70781579, 0.40786841, 1.03360247]),\n",
       " array([3.62455695, 1.62531203, 1.21134979]),\n",
       " array([5.70686123, 0.68359949, 1.12650707]),\n",
       " array([2.48896193, 1.60611956, 0.86269915]),\n",
       " array([1.91685221, 1.74373667, 1.31971882]),\n",
       " array([3.64001086, 0.70753914, 1.04851745]))"
      ]
     },
     "execution_count": 68,
     "metadata": {},
     "output_type": "execute_result"
    }
   ],
   "source": [
    "XTX_inv12 = np.linalg.inv(XTX12)\n",
    "b12 = XTX_inv12.dot(x12.T).dot(y)\n",
    "\n",
    "XTX_inv13 = np.linalg.inv(XTX13)\n",
    "b13 = XTX_inv13.dot(x13.T).dot(y)\n",
    "\n",
    "XTX_inv14 = np.linalg.inv(XTX14)\n",
    "b14 = XTX_inv14.dot(x14.T).dot(y)\n",
    "\n",
    "XTX_inv23 = np.linalg.inv(XTX23)\n",
    "b23 = XTX_inv23.dot(x23.T).dot(y)\n",
    "\n",
    "XTX_inv24 = np.linalg.inv(XTX24)\n",
    "b24 = XTX_inv24.dot(x24.T).dot(y)\n",
    "\n",
    "XTX_inv34 = np.linalg.inv(XTX34)\n",
    "b34 = XTX_inv34.dot(x34.T).dot(y)\n",
    "b12, b13, b14, b23, b24, b34"
   ]
  },
  {
   "cell_type": "code",
   "execution_count": 69,
   "metadata": {},
   "outputs": [],
   "source": [
    "def sum_of_squares(samples):\n",
    "    return ((samples - samples.mean()) ** 2).sum()"
   ]
  },
  {
   "cell_type": "code",
   "execution_count": 70,
   "metadata": {},
   "outputs": [
    {
     "data": {
      "text/plain": [
       "array([ 9.59331437,  7.97848093,  8.26300303,  9.77801418,  8.75177457,\n",
       "        7.25460411,  9.51697846,  9.09133833, 10.96600157,  9.90873522])"
      ]
     },
     "execution_count": 70,
     "metadata": {},
     "output_type": "execute_result"
    }
   ],
   "source": [
    "# Найдем предсказанные моделями значения\n",
    "z12 = x12.dot(b12)\n",
    "z13 = x13.dot(b13)\n",
    "z14 = x14.dot(b14)\n",
    "z23 = x23.dot(b23)\n",
    "z24 = x24.dot(b24)\n",
    "z34 = x34.dot(b34)\n",
    "z12"
   ]
  },
  {
   "cell_type": "code",
   "execution_count": 71,
   "metadata": {},
   "outputs": [
    {
     "data": {
      "text/plain": [
       "{'R12': 0.18113594742585215,\n",
       " 'R13': 0.7634246238793152,\n",
       " 'R14': 0.4532966783144078,\n",
       " 'R23': 0.5479482734039011,\n",
       " 'R24': 0.6062055761129932,\n",
       " 'R34': 0.622441987650532}"
      ]
     },
     "execution_count": 71,
     "metadata": {},
     "output_type": "execute_result"
    }
   ],
   "source": [
    "# Найдем коэффициенты детерминации и выберем лучший\n",
    "r = {}\n",
    "R12 = 1 - ((y - z12)**2).sum() / sum_of_squares(y)\n",
    "r.update({'R12':R12})\n",
    "R13 = 1 - ((y - z13)**2).sum() / sum_of_squares(y)\n",
    "r.update({'R13':R13})\n",
    "R14 = 1 - ((y - z14)**2).sum() / sum_of_squares(y)\n",
    "r.update({'R14':R14})\n",
    "R23 = 1 - ((y - z23)**2).sum() / sum_of_squares(y)\n",
    "r.update({'R23':R23})\n",
    "R24 = 1 - ((y - z24)**2).sum() / sum_of_squares(y)\n",
    "r.update({'R24':R24})\n",
    "R34 = 1 - ((y - z34)**2).sum() / sum_of_squares(y)\n",
    "r.update({'R34':R34})\n",
    "r"
   ]
  },
  {
   "cell_type": "code",
   "execution_count": 72,
   "metadata": {},
   "outputs": [
    {
     "data": {
      "text/plain": [
       "('R13', 0.7634246238793152)"
      ]
     },
     "execution_count": 72,
     "metadata": {},
     "output_type": "execute_result"
    }
   ],
   "source": [
    "Rmax = max(r, key=r.get)\n",
    "Rmax, r[Rmax]"
   ]
  },
  {
   "cell_type": "markdown",
   "metadata": {},
   "source": [
    "Сочетание 1го и 3го признака оказывает наибольшее влияние на целевую переменную."
   ]
  },
  {
   "cell_type": "markdown",
   "metadata": {},
   "source": [
    "Проверим значимость уравнения регрессии."
   ]
  },
  {
   "cell_type": "code",
   "execution_count": 73,
   "metadata": {},
   "outputs": [],
   "source": [
    "from scipy import stats\n",
    "import warnings\n",
    "warnings.filterwarnings(\"ignore\")"
   ]
  },
  {
   "cell_type": "code",
   "execution_count": 74,
   "metadata": {},
   "outputs": [
    {
     "data": {
      "text/plain": [
       "(2, 7)"
      ]
     },
     "execution_count": 74,
     "metadata": {},
     "output_type": "execute_result"
    }
   ],
   "source": [
    "n = x13.shape[0]\n",
    "m = x13.shape[1] - 1\n",
    "\n",
    "k1 = m\n",
    "k2 = n - m - 1\n",
    "\n",
    "k1, k2"
   ]
  },
  {
   "cell_type": "code",
   "execution_count": 75,
   "metadata": {},
   "outputs": [
    {
     "data": {
      "text/plain": [
       "4.73741412777588"
      ]
     },
     "execution_count": 75,
     "metadata": {},
     "output_type": "execute_result"
    }
   ],
   "source": [
    "# Критическая облась\n",
    "alpha = 0.05\n",
    "\n",
    "t = stats.f.ppf(1 - alpha, k1, k2)\n",
    "t"
   ]
  },
  {
   "cell_type": "markdown",
   "metadata": {},
   "source": [
    "Критическая область:\n",
    "$$\\Omega_\\alpha = \\left( 4.73, \\infty \\right)$$"
   ]
  },
  {
   "cell_type": "code",
   "execution_count": 76,
   "metadata": {},
   "outputs": [
    {
     "data": {
      "text/plain": [
       "11.29443912292265"
      ]
     },
     "execution_count": 76,
     "metadata": {},
     "output_type": "execute_result"
    }
   ],
   "source": [
    "# Значение статистики:\n",
    "F = (R13 / k1) / ((1 - R13) / k2)\n",
    "F"
   ]
  },
  {
   "cell_type": "markdown",
   "metadata": {},
   "source": [
    "Статистика попала в критическую область, уравнение регрессии признаётся значимым."
   ]
  },
  {
   "cell_type": "code",
   "execution_count": 77,
   "metadata": {},
   "outputs": [
    {
     "name": "stdout",
     "output_type": "stream",
     "text": [
      "                            OLS Regression Results                            \n",
      "==============================================================================\n",
      "Dep. Variable:                      y   R-squared:                       0.763\n",
      "Model:                            OLS   Adj. R-squared:                  0.696\n",
      "Method:                 Least Squares   F-statistic:                     11.29\n",
      "Date:                Wed, 15 Sep 2021   Prob (F-statistic):            0.00644\n",
      "Time:                        11:52:43   Log-Likelihood:                -15.767\n",
      "No. Observations:                  10   AIC:                             37.53\n",
      "Df Residuals:                       7   BIC:                             38.44\n",
      "Df Model:                           2                                         \n",
      "Covariance Type:            nonrobust                                         \n",
      "==============================================================================\n",
      "                 coef    std err          t      P>|t|      [0.025      0.975]\n",
      "------------------------------------------------------------------------------\n",
      "const          3.6246      1.261      2.875      0.024       0.643       6.606\n",
      "x1             1.6253      0.459      3.542      0.009       0.540       2.710\n",
      "x2             1.2113      0.278      4.351      0.003       0.553       1.870\n",
      "==============================================================================\n",
      "Omnibus:                        1.625   Durbin-Watson:                   2.459\n",
      "Prob(Omnibus):                  0.444   Jarque-Bera (JB):                0.302\n",
      "Skew:                           0.418   Prob(JB):                        0.860\n",
      "Kurtosis:                       3.161   Cond. No.                         12.7\n",
      "==============================================================================\n",
      "\n",
      "Notes:\n",
      "[1] Standard Errors assume that the covariance matrix of the errors is correctly specified.\n"
     ]
    }
   ],
   "source": [
    "# Проверим встроенным методом\n",
    "import statsmodels.api as sm\n",
    "model = sm.OLS(y, x13)\n",
    "results = model.fit()\n",
    "print(results.summary())"
   ]
  },
  {
   "cell_type": "markdown",
   "metadata": {},
   "source": [
    "Данные сходятся, расчеты выполнены верно"
   ]
  },
  {
   "cell_type": "markdown",
   "metadata": {},
   "source": [
    "### Задача 2\n",
    "\n",
    "Даны значения величины заработной платы заемщиков банка (salary) и значения их поведенческого кредитного скоринга (scoring):\n",
    "\n",
    "salary = [35, 45, 190, 200, 40, 70, 54, 150, 120, 110]\n",
    "scoring = [401, 574, 874, 919, 459, 739, 653, 902, 746, 832]\n",
    "\n",
    "Возьмём в качестве признака значение salary, а в качестве целевой переменной - scoring.\n",
    "\n",
    "Найдите коэффициенты линейной регрессии с помощью формул для парной регрессии, а затем с помощью метода наименьших квадратов.\n",
    "Постройте scatter plot по данным и отметьте на нём прямую линейной регрессии, полученную в п. 1.\n",
    "Посчитайте коэффициент детерминации.\n",
    "Оцените построенное уравнение регрессии с помощью F-критерия Фишера.\n",
    "(доп) Посчитать среднюю ошибку аппроксимации"
   ]
  },
  {
   "cell_type": "code",
   "execution_count": 78,
   "metadata": {},
   "outputs": [],
   "source": [
    "x1 = np.array([35, 45, 190, 200, 40, 70, 54, 150, 120, 110])\n",
    "y1 = np.array([401, 574, 874, 919, 459, 739, 653, 902, 746, 832])"
   ]
  },
  {
   "cell_type": "code",
   "execution_count": 79,
   "metadata": {},
   "outputs": [
    {
     "data": {
      "text/plain": [
       "(444.1773573243596, 2.620538882402765)"
      ]
     },
     "execution_count": 79,
     "metadata": {},
     "output_type": "execute_result"
    }
   ],
   "source": [
    "b1 = (np.mean(x1 * y1) - np.mean(x1) * np.mean(y1)) / (np.mean(x1 ** 2) - np.mean(x1) ** 2)\n",
    "b0 = np.mean(y1) - b1 * np.mean(x1)\n",
    "\n",
    "b0, b1"
   ]
  },
  {
   "cell_type": "markdown",
   "metadata": {},
   "source": [
    "Модель линейной регрессии имеет вид:\n",
    "$$y = 444.18 + 2.62 \\cdot x,$$ \n",
    "т.е. с увеличением зарплаты на 1 рубль кредитный скоринг возрастает на  2.62  балла."
   ]
  },
  {
   "cell_type": "markdown",
   "metadata": {},
   "source": [
    "Теперь построим по методу наименьших квадратов"
   ]
  },
  {
   "cell_type": "code",
   "execution_count": 80,
   "metadata": {},
   "outputs": [
    {
     "data": {
      "text/plain": [
       "((10,), (10,))"
      ]
     },
     "execution_count": 80,
     "metadata": {},
     "output_type": "execute_result"
    }
   ],
   "source": [
    "x1.shape, y.shape"
   ]
  },
  {
   "cell_type": "code",
   "execution_count": 81,
   "metadata": {},
   "outputs": [
    {
     "data": {
      "text/plain": [
       "array([[  1.,  35.],\n",
       "       [  1.,  45.],\n",
       "       [  1., 190.],\n",
       "       [  1., 200.],\n",
       "       [  1.,  40.],\n",
       "       [  1.,  70.],\n",
       "       [  1.,  54.],\n",
       "       [  1., 150.],\n",
       "       [  1., 120.],\n",
       "       [  1., 110.]])"
      ]
     },
     "execution_count": 81,
     "metadata": {},
     "output_type": "execute_result"
    }
   ],
   "source": [
    "ones = np.ones((x1.shape[0], 1)).T\n",
    "x2 = np.vstack([ones, x1]).T\n",
    "x2"
   ]
  },
  {
   "cell_type": "code",
   "execution_count": 82,
   "metadata": {},
   "outputs": [
    {
     "data": {
      "text/plain": [
       "349464.00000000023"
      ]
     },
     "execution_count": 82,
     "metadata": {},
     "output_type": "execute_result"
    }
   ],
   "source": [
    "XTX = x2.T.dot(x2)\n",
    "np.linalg.det(XTX)"
   ]
  },
  {
   "cell_type": "markdown",
   "metadata": {},
   "source": [
    "Определиетль не близок к 0, можно искать коэффициенты"
   ]
  },
  {
   "cell_type": "code",
   "execution_count": 83,
   "metadata": {},
   "outputs": [
    {
     "data": {
      "text/plain": [
       "array([444.17735732,   2.62053888])"
      ]
     },
     "execution_count": 83,
     "metadata": {},
     "output_type": "execute_result"
    }
   ],
   "source": [
    "XTX_inv = np.linalg.inv(XTX)\n",
    "b = XTX_inv.dot(x2.T).dot(y1)\n",
    "b"
   ]
  },
  {
   "cell_type": "code",
   "execution_count": 84,
   "metadata": {},
   "outputs": [
    {
     "data": {
      "text/plain": [
       "(2.620538882402765, 2.6205388824027676, 444.1773573243596, 444.17735732435915)"
      ]
     },
     "execution_count": 84,
     "metadata": {},
     "output_type": "execute_result"
    }
   ],
   "source": [
    "b1, b[1], b0, b[0]"
   ]
  },
  {
   "cell_type": "markdown",
   "metadata": {},
   "source": [
    "Коэффициенты, найденные разными методами, получились максимально близкими"
   ]
  },
  {
   "cell_type": "markdown",
   "metadata": {},
   "source": [
    "Визуализируем даные"
   ]
  },
  {
   "cell_type": "code",
   "execution_count": 85,
   "metadata": {},
   "outputs": [],
   "source": [
    "from matplotlib import pyplot as plt\n",
    "plt.style.use('seaborn-whitegrid')"
   ]
  },
  {
   "cell_type": "code",
   "execution_count": 86,
   "metadata": {},
   "outputs": [
    {
     "data": {
      "text/plain": [
       "Text(0, 0.5, 'скоринг')"
      ]
     },
     "execution_count": 86,
     "metadata": {},
     "output_type": "execute_result"
    },
    {
     "data": {
      "image/png": "[encoded data removed]",
      "text/plain": [
       "<Figure size 432x288 with 1 Axes>"
      ]
     },
     "metadata": {},
     "output_type": "display_data"
    }
   ],
   "source": [
    "ox = x1\n",
    "oy = b0 + b1 * ox\n",
    "\n",
    "plt.scatter(x1, y1)\n",
    "plt.plot(ox, oy, color='red', alpha=0.5)\n",
    "\n",
    "plt.xlabel('зарплата')\n",
    "plt.ylabel('скоринг')"
   ]
  },
  {
   "cell_type": "markdown",
   "metadata": {},
   "source": [
    "Посчитаем коэффициент детерминации"
   ]
  },
  {
   "cell_type": "code",
   "execution_count": 87,
   "metadata": {},
   "outputs": [],
   "source": [
    "z1 = b0 + b1 * x1"
   ]
  },
  {
   "cell_type": "code",
   "execution_count": 88,
   "metadata": {},
   "outputs": [
    {
     "data": {
      "text/plain": [
       "0.7876386635293686"
      ]
     },
     "execution_count": 88,
     "metadata": {},
     "output_type": "execute_result"
    }
   ],
   "source": [
    "R1 = 1 - ((y1 - z1)**2).sum() / sum_of_squares(y1)\n",
    "R1"
   ]
  },
  {
   "cell_type": "markdown",
   "metadata": {},
   "source": [
    "Оценим построенное уравнение регрессии с помощью F-критерия Фишера."
   ]
  },
  {
   "cell_type": "code",
   "execution_count": 89,
   "metadata": {},
   "outputs": [
    {
     "data": {
      "text/plain": [
       "(1, 8)"
      ]
     },
     "execution_count": 89,
     "metadata": {},
     "output_type": "execute_result"
    }
   ],
   "source": [
    "n = x1.shape[0]\n",
    "m = 1\n",
    "\n",
    "k1 = m\n",
    "k2 = n - m - 1\n",
    "\n",
    "k1, k2"
   ]
  },
  {
   "cell_type": "code",
   "execution_count": 90,
   "metadata": {},
   "outputs": [
    {
     "data": {
      "text/plain": [
       "5.317655071578714"
      ]
     },
     "execution_count": 90,
     "metadata": {},
     "output_type": "execute_result"
    }
   ],
   "source": [
    "alpha = 0.05\n",
    "\n",
    "t = stats.f.ppf(1 - alpha, k1, k2)\n",
    "t"
   ]
  },
  {
   "cell_type": "markdown",
   "metadata": {},
   "source": [
    "Критическая область:\n",
    "$$\\Omega_\\alpha = \\left( 5.32, \\infty \\right)$$"
   ]
  },
  {
   "cell_type": "code",
   "execution_count": 91,
   "metadata": {},
   "outputs": [
    {
     "data": {
      "text/plain": [
       "29.67164085966451"
      ]
     },
     "execution_count": 91,
     "metadata": {},
     "output_type": "execute_result"
    }
   ],
   "source": [
    "F = (R1 / k1) / ((1 - R1) / k2)\n",
    "F"
   ]
  },
  {
   "cell_type": "markdown",
   "metadata": {},
   "source": [
    "Статистика попала в критическую область, уравнение регрессии признаётся значимым."
   ]
  },
  {
   "cell_type": "markdown",
   "metadata": {},
   "source": [
    "#### Посчитаем среднюю ошибку аппроксимации"
   ]
  },
  {
   "cell_type": "code",
   "execution_count": 92,
   "metadata": {},
   "outputs": [],
   "source": [
    "def mean_approximation_error(y_real, y_pred):\n",
    "    return np.abs((y_real - y_pred) / y_real).mean()"
   ]
  },
  {
   "cell_type": "code",
   "execution_count": 93,
   "metadata": {},
   "outputs": [
    {
     "data": {
      "text/plain": [
       "0.11469251843561709"
      ]
     },
     "execution_count": 93,
     "metadata": {},
     "output_type": "execute_result"
    }
   ],
   "source": [
    "mean_approximation_error(y1, z1)"
   ]
  },
  {
   "cell_type": "markdown",
   "metadata": {},
   "source": [
    "Значение средней ошибки аппроксимации более 10%, но менее 15% - модель линейной регрессии выдает значения достаточно близкие к реальным данным."
   ]
  }
 ],
 "metadata": {
  "kernelspec": {
   "display_name": "Python 3",
   "language": "python",
   "name": "python3"
  },
  "language_info": {
   "codemirror_mode": {
    "name": "ipython",
    "version": 3
   },
   "file_extension": ".py",
   "mimetype": "text/x-python",
   "name": "python",
   "nbconvert_exporter": "python",
   "pygments_lexer": "ipython3",
   "version": "3.8.5"
  }
 },
 "nbformat": 4,
 "nbformat_minor": 4
}
