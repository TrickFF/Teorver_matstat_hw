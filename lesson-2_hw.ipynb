{
 "cells": [
  {
   "cell_type": "markdown",
   "metadata": {},
   "source": [
    "### Задача 1\n",
    "Контрольная работа состоит из пяти вопросов. На каждый вопрос приведено четыре варианта ответа, один из которых правильный. Составьте закон распределения числа правильных ответов при простом угадывании. Найдите M(X), D(X)."
   ]
  },
  {
   "cell_type": "code",
   "execution_count": 19,
   "metadata": {},
   "outputs": [],
   "source": [
    "# Количество вопросов - 5\n",
    "# Вариантов ответов - 4\n",
    "# Правильных вариантов - 1"
   ]
  },
  {
   "cell_type": "code",
   "execution_count": 20,
   "metadata": {},
   "outputs": [],
   "source": [
    "# Вероятность ответить правильно или неправильно в каждом вопросе не зависит\n",
    "# от ответов на другие вопросы и эта вероятность всегда одинакова.\n",
    "# Можно применить формулу Бернулли"
   ]
  },
  {
   "cell_type": "code",
   "execution_count": 3,
   "metadata": {},
   "outputs": [],
   "source": [
    "from math import factorial"
   ]
  },
  {
   "cell_type": "code",
   "execution_count": 4,
   "metadata": {},
   "outputs": [],
   "source": [
    "def combinations(n, k):\n",
    "    return int(factorial(n) / (factorial(k) * factorial(n - k)))"
   ]
  },
  {
   "cell_type": "code",
   "execution_count": 28,
   "metadata": {},
   "outputs": [
    {
     "data": {
      "text/plain": [
       "0.2373046875"
      ]
     },
     "execution_count": 28,
     "metadata": {},
     "output_type": "execute_result"
    }
   ],
   "source": [
    "# Вероятность ответить неправильно на все 5 вопросов\n",
    "k0 = combinations(5, 0)*(1/4)**0*(1-1/4)**(5-0)\n",
    "k0"
   ]
  },
  {
   "cell_type": "code",
   "execution_count": 22,
   "metadata": {},
   "outputs": [
    {
     "data": {
      "text/plain": [
       "0.3955078125"
      ]
     },
     "execution_count": 22,
     "metadata": {},
     "output_type": "execute_result"
    }
   ],
   "source": [
    "# Вероятность ответить правильно на 1 вопрос\n",
    "k1 = combinations(5, 1)*(1/4)**1*(1-1/4)**(5-1)\n",
    "k1"
   ]
  },
  {
   "cell_type": "code",
   "execution_count": 23,
   "metadata": {},
   "outputs": [
    {
     "data": {
      "text/plain": [
       "0.263671875"
      ]
     },
     "execution_count": 23,
     "metadata": {},
     "output_type": "execute_result"
    }
   ],
   "source": [
    "# Вероятность ответить правильно на 2 вопроса\n",
    "k2 = combinations(5, 2)*(1/4)**2*(1-1/4)**(5-2)\n",
    "k2"
   ]
  },
  {
   "cell_type": "code",
   "execution_count": 25,
   "metadata": {},
   "outputs": [
    {
     "data": {
      "text/plain": [
       "0.087890625"
      ]
     },
     "execution_count": 25,
     "metadata": {},
     "output_type": "execute_result"
    }
   ],
   "source": [
    "# Вероятность ответить правильно на 3 вопроса\n",
    "k3 = combinations(5, 3)*(1/4)**3*(1-1/4)**(5-3)\n",
    "k3"
   ]
  },
  {
   "cell_type": "code",
   "execution_count": 26,
   "metadata": {},
   "outputs": [
    {
     "data": {
      "text/plain": [
       "0.0146484375"
      ]
     },
     "execution_count": 26,
     "metadata": {},
     "output_type": "execute_result"
    }
   ],
   "source": [
    "# Вероятность ответить правильно на 4 вопроса\n",
    "k4 = combinations(5, 4)*(1/4)**4*(1-1/4)**(5-4)\n",
    "k4"
   ]
  },
  {
   "cell_type": "code",
   "execution_count": 27,
   "metadata": {},
   "outputs": [
    {
     "data": {
      "text/plain": [
       "0.0009765625"
      ]
     },
     "execution_count": 27,
     "metadata": {},
     "output_type": "execute_result"
    }
   ],
   "source": [
    "# Вероятность ответить правильно на все 5 вопросов\n",
    "k5 = combinations(5, 5)*(1/4)**5*(1-1/4)**(5-5)\n",
    "k5"
   ]
  },
  {
   "cell_type": "code",
   "execution_count": 29,
   "metadata": {},
   "outputs": [
    {
     "data": {
      "text/plain": [
       "1.0"
      ]
     },
     "execution_count": 29,
     "metadata": {},
     "output_type": "execute_result"
    }
   ],
   "source": [
    "# Проверяем рассчеты вероятностей для правильных ответов\n",
    "total = k0 + k1 + k2 + k3 + k4 + k5\n",
    "total"
   ]
  },
  {
   "cell_type": "code",
   "execution_count": 49,
   "metadata": {},
   "outputs": [],
   "source": [
    "import numpy as np"
   ]
  },
  {
   "cell_type": "code",
   "execution_count": 50,
   "metadata": {},
   "outputs": [
    {
     "data": {
      "text/plain": [
       "array([0, 1, 2, 3, 4, 5])"
      ]
     },
     "execution_count": 50,
     "metadata": {},
     "output_type": "execute_result"
    }
   ],
   "source": [
    "# Массив значений\n",
    "x_values = np.arange(0, 6)\n",
    "x_values"
   ]
  },
  {
   "cell_type": "code",
   "execution_count": 51,
   "metadata": {},
   "outputs": [
    {
     "data": {
      "text/plain": [
       "array([0.23730469, 0.39550781, 0.26367188, 0.08789062, 0.01464844,\n",
       "       0.00097656])"
      ]
     },
     "execution_count": 51,
     "metadata": {},
     "output_type": "execute_result"
    }
   ],
   "source": [
    "# Массив вероятностей\n",
    "x_prob = np.array([k0, k1, k2, k3, k4, k5])\n",
    "x_prob"
   ]
  },
  {
   "cell_type": "code",
   "execution_count": 52,
   "metadata": {},
   "outputs": [
    {
     "data": {
      "text/plain": [
       "1.25"
      ]
     },
     "execution_count": 52,
     "metadata": {},
     "output_type": "execute_result"
    }
   ],
   "source": [
    "# Находим матожидание m\n",
    "m = x_values.dot(x_prob)\n",
    "m"
   ]
  },
  {
   "cell_type": "code",
   "execution_count": 53,
   "metadata": {},
   "outputs": [
    {
     "data": {
      "text/plain": [
       "array([-1.25, -0.25,  0.75,  1.75,  2.75,  3.75])"
      ]
     },
     "execution_count": 53,
     "metadata": {},
     "output_type": "execute_result"
    }
   ],
   "source": [
    "# Находим дисперсию d\n",
    "y_values = x_values - m\n",
    "y_values"
   ]
  },
  {
   "cell_type": "code",
   "execution_count": 54,
   "metadata": {},
   "outputs": [
    {
     "data": {
      "text/plain": [
       "array([ 1.5625,  0.0625,  0.5625,  3.0625,  7.5625, 14.0625])"
      ]
     },
     "execution_count": 54,
     "metadata": {},
     "output_type": "execute_result"
    }
   ],
   "source": [
    "z_values = y_values ** 2\n",
    "z_values"
   ]
  },
  {
   "cell_type": "code",
   "execution_count": 55,
   "metadata": {},
   "outputs": [
    {
     "data": {
      "text/plain": [
       "0.9375"
      ]
     },
     "execution_count": 55,
     "metadata": {},
     "output_type": "execute_result"
    }
   ],
   "source": [
    "d = z_values.dot(x_prob)\n",
    "d"
   ]
  },
  {
   "cell_type": "code",
   "execution_count": 56,
   "metadata": {},
   "outputs": [
    {
     "data": {
      "text/plain": [
       "0.9682458365518543"
      ]
     },
     "execution_count": 56,
     "metadata": {},
     "output_type": "execute_result"
    }
   ],
   "source": [
    "# Для понимания разброса значений вправо и влево\n",
    "# от матожидания находим среднеквадратическое отклонение s\n",
    "s = d**0.5\n",
    "s"
   ]
  },
  {
   "cell_type": "markdown",
   "metadata": {},
   "source": [
    "### Задача 2\n",
    "Вероятность поймать рыбу при одном забрасывании удочки равна 0.01. Какова вероятность того, что число пойманных рыб при 200 забросах удочки будет не менее 5 и не более 10?"
   ]
  },
  {
   "cell_type": "code",
   "execution_count": 57,
   "metadata": {},
   "outputs": [],
   "source": [
    "# В данной задаче достаточно большое число испытаний, также есть интенсивность\n",
    "# т.о. она подходит под распределение Пуассона"
   ]
  },
  {
   "cell_type": "code",
   "execution_count": 70,
   "metadata": {},
   "outputs": [
    {
     "data": {
      "text/plain": [
       "2.0"
      ]
     },
     "execution_count": 70,
     "metadata": {},
     "output_type": "execute_result"
    }
   ],
   "source": [
    "a = 200*0.01\n",
    "a"
   ]
  },
  {
   "cell_type": "code",
   "execution_count": 59,
   "metadata": {},
   "outputs": [],
   "source": [
    "# k имеет диапазон значений 5 >= k <= 10\n",
    "# Поэтому нам необходимо найти суммо вероятностей исходов данного диапазона"
   ]
  },
  {
   "cell_type": "code",
   "execution_count": 699,
   "metadata": {},
   "outputs": [],
   "source": [
    "def poisson_proba(k, a):\n",
    "    return (a ** k) * (np.exp(-a)) / np.math.factorial(k)"
   ]
  },
  {
   "cell_type": "code",
   "execution_count": 64,
   "metadata": {},
   "outputs": [
    {
     "data": {
      "text/plain": [
       "0.052644709119342686"
      ]
     },
     "execution_count": 64,
     "metadata": {},
     "output_type": "execute_result"
    }
   ],
   "source": [
    "# Вероятность составит\n",
    "sum(poisson_proba(k=i, a=a) for i in range(5,11))"
   ]
  },
  {
   "cell_type": "markdown",
   "metadata": {},
   "source": [
    "### Задача 3\n",
    "В условиях предыдущей задачи сколько забросов удочки нужно сделать чтобы быть уверенным с вероятностью 0.9, что хотя бы 10 раз будет поймана рыба?\n",
    "Подсказка. Как посчитать P(X >= k) для величины X, имеющей биномиальное распределение? Здесь предстоит немножко покодить."
   ]
  },
  {
   "cell_type": "markdown",
   "metadata": {},
   "source": [
    "#### Вариант 1"
   ]
  },
  {
   "cell_type": "code",
   "execution_count": 692,
   "metadata": {},
   "outputs": [],
   "source": [
    "# Вероятность должна быть = 0.9\n",
    "# Поймать нужно >= 10 рыб\n",
    "\n",
    "p = 0\n",
    "k = 10\n",
    "n = 0\n",
    "spam = 1"
   ]
  },
  {
   "cell_type": "code",
   "execution_count": 693,
   "metadata": {},
   "outputs": [
    {
     "data": {
      "text/plain": [
       "(0.9000639731696665, 439, 4.39)"
      ]
     },
     "execution_count": 693,
     "metadata": {},
     "output_type": "execute_result"
    }
   ],
   "source": [
    "# Находим число забрасываний путем их перебора до получения нужной вероятности\n",
    "# от обратного, т.е. кол-во забрасываний, чтобы вытащить не более 10 рыб с\n",
    "# с вероятностью не более 0.1\n",
    "\n",
    "while spam != 0:\n",
    "    n += 1\n",
    "    a = n * 0.01\n",
    "    p = sum(poisson_proba(k=k, a=a) for i in range(0,11))\n",
    "    if p > 0.1:\n",
    "        spam = 0\n",
    "        n -= 1\n",
    "        a = n * 0.01\n",
    "        p = sum(poisson_proba(k=k, a=a) for i in range(0,11))\n",
    "1- p, n, a"
   ]
  },
  {
   "cell_type": "code",
   "execution_count": 694,
   "metadata": {},
   "outputs": [
    {
     "data": {
      "text/plain": [
       "0.9000639731696665"
      ]
     },
     "execution_count": 694,
     "metadata": {},
     "output_type": "execute_result"
    }
   ],
   "source": [
    "# Проверяем\n",
    "n = 439\n",
    "a = n * 0.01\n",
    "k = 10\n",
    "1 - sum(poisson_proba(k=k, a=a) for i in range(0,11))"
   ]
  },
  {
   "cell_type": "markdown",
   "metadata": {},
   "source": [
    "По закону распределения Пуассона, чтоыбы поймать не менее 10 рыб с вероятностью 0.9 необходимо 439 забрасываний"
   ]
  },
  {
   "cell_type": "markdown",
   "metadata": {},
   "source": [
    "#### Вариант 2"
   ]
  },
  {
   "cell_type": "markdown",
   "metadata": {},
   "source": [
    "Пробуем найти по формуле Бернули"
   ]
  },
  {
   "cell_type": "markdown",
   "metadata": {},
   "source": [
    "$$P_n(k>=10) = 0.9$$\n",
    "\n",
    "Найдем от обратного, т.е. 1 - вероятность не поймать ни одной рыбы:\n",
    "$$1 - P_n(k>=0) = 0.9$$\n",
    "$$1 - C_n^0*0.01^0(1-0,01)^n = 0.9$$\n",
    "$$1 - \\frac{n!}{0!(n-0)!} \\cdot 0.01^0 \\cdot 0.99^n = 0.9$$\n",
    "$$1 - \\frac{n!}{n!} \\cdot 1 \\cdot 0.99^n = 0.9$$\n",
    "$$1 - 0.99^n = 0.9$$\n",
    "$$0.99^n = 0.1$$"
   ]
  },
  {
   "cell_type": "code",
   "execution_count": 707,
   "metadata": {},
   "outputs": [],
   "source": [
    "n = 0\n",
    "p = 1"
   ]
  },
  {
   "cell_type": "code",
   "execution_count": 708,
   "metadata": {},
   "outputs": [
    {
     "data": {
      "text/plain": [
       "(0.9008951844811254, 230)"
      ]
     },
     "execution_count": 708,
     "metadata": {},
     "output_type": "execute_result"
    }
   ],
   "source": [
    "while p > 0.1:\n",
    "    n += 1\n",
    "    p = 0.99**n\n",
    "1 - p, n"
   ]
  },
  {
   "cell_type": "markdown",
   "metadata": {},
   "source": [
    "По биномиальному закону распределения, чтоыбы поймать не менее 10 рыб с вероятностью 0.9 необходимо 230 забрасываний"
   ]
  }
 ],
 "metadata": {
  "kernelspec": {
   "display_name": "Python 3",
   "language": "python",
   "name": "python3"
  },
  "language_info": {
   "codemirror_mode": {
    "name": "ipython",
    "version": 3
   },
   "file_extension": ".py",
   "mimetype": "text/x-python",
   "name": "python",
   "nbconvert_exporter": "python",
   "pygments_lexer": "ipython3",
   "version": "3.8.5"
  }
 },
 "nbformat": 4,
 "nbformat_minor": 4
}
