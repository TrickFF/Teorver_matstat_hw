{
 "cells": [
  {
   "cell_type": "markdown",
   "metadata": {},
   "source": [
    "### Исследование данных по рейтингу производительности процессоров и цен на них."
   ]
  },
  {
   "cell_type": "code",
   "execution_count": 81,
   "metadata": {},
   "outputs": [],
   "source": [
    "import pandas as pd\n",
    "import numpy as np\n",
    "from matplotlib import pyplot as plt\n",
    "import seaborn as sns\n",
    "from scipy import stats\n",
    "import warnings\n",
    "warnings.filterwarnings(\"ignore\")"
   ]
  },
  {
   "cell_type": "code",
   "execution_count": 82,
   "metadata": {},
   "outputs": [
    {
     "data": {
      "text/html": [
       "<div>\n",
       "<style scoped>\n",
       "    .dataframe tbody tr th:only-of-type {\n",
       "        vertical-align: middle;\n",
       "    }\n",
       "\n",
       "    .dataframe tbody tr th {\n",
       "        vertical-align: top;\n",
       "    }\n",
       "\n",
       "    .dataframe thead th {\n",
       "        text-align: right;\n",
       "    }\n",
       "</style>\n",
       "<table border=\"1\" class=\"dataframe\">\n",
       "  <thead>\n",
       "    <tr style=\"text-align: right;\">\n",
       "      <th></th>\n",
       "      <th>Manufacturer</th>\n",
       "      <th>Model</th>\n",
       "      <th>Rating</th>\n",
       "      <th>Price</th>\n",
       "    </tr>\n",
       "  </thead>\n",
       "  <tbody>\n",
       "    <tr>\n",
       "      <th>0</th>\n",
       "      <td>AMD</td>\n",
       "      <td>EPYC 7763</td>\n",
       "      <td>52987.45</td>\n",
       "      <td>821690.0</td>\n",
       "    </tr>\n",
       "    <tr>\n",
       "      <th>1</th>\n",
       "      <td>AMD</td>\n",
       "      <td>Ryzen Threadripper PRO 3995WX</td>\n",
       "      <td>51839.98</td>\n",
       "      <td>558750.0</td>\n",
       "    </tr>\n",
       "    <tr>\n",
       "      <th>2</th>\n",
       "      <td>AMD</td>\n",
       "      <td>Ryzen Threadripper 3990X</td>\n",
       "      <td>51279.34</td>\n",
       "      <td>402075.0</td>\n",
       "    </tr>\n",
       "    <tr>\n",
       "      <th>3</th>\n",
       "      <td>AMD</td>\n",
       "      <td>EPYC 7713</td>\n",
       "      <td>43915.87</td>\n",
       "      <td>739520.0</td>\n",
       "    </tr>\n",
       "    <tr>\n",
       "      <th>4</th>\n",
       "      <td>AMD</td>\n",
       "      <td>EPYC 7662</td>\n",
       "      <td>43208.46</td>\n",
       "      <td>596035.0</td>\n",
       "    </tr>\n",
       "  </tbody>\n",
       "</table>\n",
       "</div>"
      ],
      "text/plain": [
       "  Manufacturer                          Model    Rating     Price\n",
       "0          AMD                      EPYC 7763  52987.45  821690.0\n",
       "1          AMD  Ryzen Threadripper PRO 3995WX  51839.98  558750.0\n",
       "2          AMD       Ryzen Threadripper 3990X  51279.34  402075.0\n",
       "3          AMD                      EPYC 7713  43915.87  739520.0\n",
       "4          AMD                      EPYC 7662  43208.46  596035.0"
      ]
     },
     "execution_count": 82,
     "metadata": {},
     "output_type": "execute_result"
    }
   ],
   "source": [
    "df = pd.read_csv('processors.csv', encoding='cp1251', sep=';')\n",
    "df.head()"
   ]
  },
  {
   "cell_type": "code",
   "execution_count": 83,
   "metadata": {},
   "outputs": [
    {
     "data": {
      "text/html": [
       "<div>\n",
       "<style scoped>\n",
       "    .dataframe tbody tr th:only-of-type {\n",
       "        vertical-align: middle;\n",
       "    }\n",
       "\n",
       "    .dataframe tbody tr th {\n",
       "        vertical-align: top;\n",
       "    }\n",
       "\n",
       "    .dataframe thead th {\n",
       "        text-align: right;\n",
       "    }\n",
       "</style>\n",
       "<table border=\"1\" class=\"dataframe\">\n",
       "  <thead>\n",
       "    <tr style=\"text-align: right;\">\n",
       "      <th></th>\n",
       "      <th>Rating</th>\n",
       "      <th>Price</th>\n",
       "    </tr>\n",
       "  </thead>\n",
       "  <tbody>\n",
       "    <tr>\n",
       "      <th>count</th>\n",
       "      <td>50.000000</td>\n",
       "      <td>50.000000</td>\n",
       "    </tr>\n",
       "    <tr>\n",
       "      <th>mean</th>\n",
       "      <td>27432.052600</td>\n",
       "      <td>226328.220000</td>\n",
       "    </tr>\n",
       "    <tr>\n",
       "      <th>std</th>\n",
       "      <td>9535.068157</td>\n",
       "      <td>189544.661945</td>\n",
       "    </tr>\n",
       "    <tr>\n",
       "      <th>min</th>\n",
       "      <td>16711.820000</td>\n",
       "      <td>42248.000000</td>\n",
       "    </tr>\n",
       "    <tr>\n",
       "      <th>25%</th>\n",
       "      <td>19975.300000</td>\n",
       "      <td>84767.750000</td>\n",
       "    </tr>\n",
       "    <tr>\n",
       "      <th>50%</th>\n",
       "      <td>24078.575000</td>\n",
       "      <td>181823.000000</td>\n",
       "    </tr>\n",
       "    <tr>\n",
       "      <th>75%</th>\n",
       "      <td>32276.315000</td>\n",
       "      <td>272436.250000</td>\n",
       "    </tr>\n",
       "    <tr>\n",
       "      <th>max</th>\n",
       "      <td>52987.450000</td>\n",
       "      <td>821690.000000</td>\n",
       "    </tr>\n",
       "  </tbody>\n",
       "</table>\n",
       "</div>"
      ],
      "text/plain": [
       "             Rating          Price\n",
       "count     50.000000      50.000000\n",
       "mean   27432.052600  226328.220000\n",
       "std     9535.068157  189544.661945\n",
       "min    16711.820000   42248.000000\n",
       "25%    19975.300000   84767.750000\n",
       "50%    24078.575000  181823.000000\n",
       "75%    32276.315000  272436.250000\n",
       "max    52987.450000  821690.000000"
      ]
     },
     "execution_count": 83,
     "metadata": {},
     "output_type": "execute_result"
    }
   ],
   "source": [
    "df.describe()"
   ]
  },
  {
   "cell_type": "code",
   "execution_count": 84,
   "metadata": {},
   "outputs": [
    {
     "data": {
      "image/png": "[encoded data removed]",
      "text/plain": [
       "<Figure size 576x288 with 2 Axes>"
      ]
     },
     "metadata": {},
     "output_type": "display_data"
    }
   ],
   "source": [
    "# Построим гистограммы для примерной оценки функции распределения\n",
    "keys = ['Rating', 'Price']\n",
    "fig, axes = plt.subplots(ncols=len(keys))\n",
    "fig.set_size_inches(4 * len(keys), 4)\n",
    "axes = axes.flatten()\n",
    "\n",
    "for key, ax in zip(keys, axes):\n",
    "    ax.hist(df[key], density=True, bins=7)\n",
    "    loc = df[key].mean()\n",
    "    scale = df[key].std()\n",
    "    x_left, x_right = ax.get_xlim()\n",
    "    x = np.linspace(x_left, x_right, 10000)\n",
    "    y = stats.norm.pdf(x, loc=loc, scale=scale)\n",
    "    ax.plot(x, y, linestyle='dashed')\n",
    "    ax.set_title(key)"
   ]
  },
  {
   "cell_type": "code",
   "execution_count": 85,
   "metadata": {},
   "outputs": [
    {
     "data": {
      "text/plain": [
       "<matplotlib.collections.PathCollection at 0x1b6368bb0d0>"
      ]
     },
     "execution_count": 85,
     "metadata": {},
     "output_type": "execute_result"
    },
    {
     "data": {
      "image/png": "[encoded data removed]",
      "text/plain": [
       "<Figure size 432x288 with 1 Axes>"
      ]
     },
     "metadata": {},
     "output_type": "display_data"
    }
   ],
   "source": [
    "# Построим график рассеивания\n",
    "plt.style.use('seaborn-whitegrid')\n",
    "plt.scatter(df['Rating'], df['Price'])"
   ]
  },
  {
   "cell_type": "markdown",
   "metadata": {},
   "source": [
    "На первый взгляд распределение величин похоже на экспоненциальное"
   ]
  },
  {
   "cell_type": "code",
   "execution_count": 86,
   "metadata": {},
   "outputs": [
    {
     "data": {
      "image/png": "[encoded data removed]",
      "text/plain": [
       "<Figure size 432x288 with 1 Axes>"
      ]
     },
     "metadata": {},
     "output_type": "display_data"
    }
   ],
   "source": [
    "# Посторим Boxplot для рейтинга\n",
    "df[['Rating']].boxplot(vert=False)\n",
    "plt.show()"
   ]
  },
  {
   "cell_type": "code",
   "execution_count": 87,
   "metadata": {},
   "outputs": [
    {
     "data": {
      "image/png": "[encoded data removed]",
      "text/plain": [
       "<Figure size 432x288 with 1 Axes>"
      ]
     },
     "metadata": {},
     "output_type": "display_data"
    }
   ],
   "source": [
    "# Посторим Boxplot для цен\n",
    "df[['Price']].boxplot(vert=False)\n",
    "plt.show()"
   ]
  },
  {
   "cell_type": "code",
   "execution_count": 88,
   "metadata": {},
   "outputs": [
    {
     "data": {
      "text/plain": [
       "(1523.7775000000001, 50727.837499999994)"
      ]
     },
     "execution_count": 88,
     "metadata": {},
     "output_type": "execute_result"
    }
   ],
   "source": [
    "# Определим границы boxplota для рейтингов\n",
    "q1 = df['Rating'].quantile(0.25)\n",
    "q3 = df['Rating'].quantile(0.75)\n",
    "iqr = q3 - q1\n",
    "\n",
    "boxplot_range = (q1 - 1.5 * iqr, q3 + 1.5 * iqr)\n",
    "boxplot_range"
   ]
  },
  {
   "cell_type": "code",
   "execution_count": 89,
   "metadata": {},
   "outputs": [
    {
     "data": {
      "text/plain": [
       "(3, 0.06)"
      ]
     },
     "execution_count": 89,
     "metadata": {},
     "output_type": "execute_result"
    }
   ],
   "source": [
    "# Найдем количество и долю выбросов по рейтингам\n",
    "outliers = df.loc[(df['Rating'] < boxplot_range[0]) | (df['Rating'] > boxplot_range[1])]\n",
    "outliers.shape[0], outliers.shape[0] / df.shape[0]"
   ]
  },
  {
   "cell_type": "code",
   "execution_count": 90,
   "metadata": {},
   "outputs": [
    {
     "data": {
      "text/plain": [
       "(-196735.0, 553939.0)"
      ]
     },
     "execution_count": 90,
     "metadata": {},
     "output_type": "execute_result"
    }
   ],
   "source": [
    "# Определим границы boxplota для цен\n",
    "q1 = df['Price'].quantile(0.25)\n",
    "q3 = df['Price'].quantile(0.75)\n",
    "iqr = q3 - q1\n",
    "\n",
    "boxplot_range = (q1 - 1.5 * iqr, q3 + 1.5 * iqr)\n",
    "boxplot_range"
   ]
  },
  {
   "cell_type": "code",
   "execution_count": 91,
   "metadata": {},
   "outputs": [
    {
     "data": {
      "text/plain": [
       "(5, 0.1)"
      ]
     },
     "execution_count": 91,
     "metadata": {},
     "output_type": "execute_result"
    }
   ],
   "source": [
    "# Найдем количество и долю выбросов по ценам\n",
    "outliers = df.loc[(df['Price'] < boxplot_range[0]) | (df['Price'] > boxplot_range[1])]\n",
    "outliers.shape[0], outliers.shape[0] / df.shape[0]"
   ]
  },
  {
   "cell_type": "code",
   "execution_count": 92,
   "metadata": {},
   "outputs": [
    {
     "name": "stdout",
     "output_type": "stream",
     "text": [
      "Statistics =  11.359 \tp-value =  0.003\n"
     ]
    }
   ],
   "source": [
    "# Проверяем рейтинг на нормальность\n",
    "alpha = 0.01\n",
    "\n",
    "# H0 - распределение нормально\n",
    "stat, p = stats.normaltest(df['Rating'])\n",
    "print('Statistics = ', round(stat, 3),  '\\tp-value = ', round(p, 3))"
   ]
  },
  {
   "cell_type": "code",
   "execution_count": 93,
   "metadata": {},
   "outputs": [
    {
     "name": "stdout",
     "output_type": "stream",
     "text": [
      "Statistics =  18.26 \tp-value =  0.0\n"
     ]
    }
   ],
   "source": [
    "# Проверяем цены на нормальность\n",
    "alpha = 0.01\n",
    "\n",
    "# H0 - распределение нормально\n",
    "stat, p = stats.normaltest(df['Price'])\n",
    "print('Statistics = ', round(stat, 3),  '\\tp-value = ', round(p, 3))"
   ]
  },
  {
   "cell_type": "markdown",
   "metadata": {},
   "source": [
    "Гипотезу о нормальном распределении величин отвергаем с уровнем ошибки 0.01, т.к. P-value обоих величин существенно меньше alpha. Проверим изначальную гипотезу о том, что величины имеют экспоненциальное распределение."
   ]
  },
  {
   "cell_type": "code",
   "execution_count": 94,
   "metadata": {},
   "outputs": [
    {
     "name": "stdout",
     "output_type": "stream",
     "text": [
      "Statistics =  16711.82 \tp-value =  10720.233\n"
     ]
    }
   ],
   "source": [
    "# Проверяем гипотезу об экспоеннциальном распределении рейтингов\n",
    "alpha = 0.01\n",
    "\n",
    "# H0 - распределение экспоненциально\n",
    "stat, p = stats.expon.fit(df['Rating'])\n",
    "print('Statistics = ', round(stat, 3),  '\\tp-value = ', round(p, 3))"
   ]
  },
  {
   "cell_type": "code",
   "execution_count": 95,
   "metadata": {},
   "outputs": [
    {
     "name": "stdout",
     "output_type": "stream",
     "text": [
      "Statistics =  42248.0 \tp-value =  184080.22\n"
     ]
    }
   ],
   "source": [
    "# Проверяем гипотезу об экспоеннциальном распределении цен\n",
    "alpha = 0.01\n",
    "\n",
    "# H0 - распределение экспоненциально\n",
    "stat, p = stats.expon.fit(df['Price'])\n",
    "print('Statistics = ', round(stat, 3),  '\\tp-value = ', round(p, 3))"
   ]
  },
  {
   "cell_type": "markdown",
   "metadata": {},
   "source": [
    "В обоих случаях p-value существенно больше уровня значимости 0.01, поэтому гипотеза от экспоненциальном распределении не отвергается с соотвтествующим уровнем значимости. Но попробуем проверить и другие не нормальные законы распределения."
   ]
  },
  {
   "cell_type": "code",
   "execution_count": 96,
   "metadata": {},
   "outputs": [],
   "source": [
    "# Функция определения распределения величин\n",
    "def get_best_distribution(data):\n",
    "    dist_names = ['dweibull', 'expon', 'exponweib', 'exponpow', 'genpareto', 'genexpon', 'gausshyper','halfnorm', 'laplace', 'logistic', 'loggamma', 'loglaplace', 'lognorm', 'lomax', 'maxwell', 'norm', 'pareto', 'pearson3', 't', 'weibull_min', 'weibull_max'] \n",
    "    dist_results = []\n",
    "    params = {}\n",
    "    for dist_name in dist_names:\n",
    "        dist = getattr(stats, dist_name)\n",
    "        param = dist.fit(data)\n",
    "\n",
    "        params[dist_name] = param\n",
    "        # Applying the Kolmogorov-Smirnov test\n",
    "        D, p = stats.kstest(data, dist_name, args=param)\n",
    "        print(\"p value for \"+dist_name+\" = \"+str(p))\n",
    "        dist_results.append((dist_name, p))\n",
    "\n",
    "    # select the best fitted distribution\n",
    "    best_dist, best_p = (max(dist_results, key=lambda item: item[1]))\n",
    "    # store the name of the best fit and its p value\n",
    "\n",
    "    print(\"Best fitting distribution: \"+str(best_dist))\n",
    "    print(\"Best p value: \"+ str(best_p))\n",
    "    print(\"Parameters for the best fit: \"+ str(params[best_dist]))\n",
    "\n",
    "    return best_dist, best_p, params[best_dist]"
   ]
  },
  {
   "cell_type": "code",
   "execution_count": 97,
   "metadata": {},
   "outputs": [
    {
     "name": "stdout",
     "output_type": "stream",
     "text": [
      "p value for dweibull = 0.20925748064931293\n",
      "p value for expon = 0.7389303963058766\n",
      "p value for exponweib = 4.059638190639136e-31\n",
      "p value for exponpow = 0.6509812766353249\n",
      "p value for genpareto = 0.766196751253502\n",
      "p value for genexpon = 0.9053619222671268\n",
      "p value for gausshyper = 0.6547904394449047\n",
      "p value for halfnorm = 0.2960370865407871\n",
      "p value for laplace = 0.06557537528399504\n",
      "p value for logistic = 0.25116319833602985\n",
      "p value for loggamma = 0.10681689176358433\n",
      "p value for loglaplace = 0.2800716844081773\n",
      "p value for lognorm = 4.971545730989894e-31\n",
      "p value for lomax = 1.9030336508439636e-07\n",
      "p value for maxwell = 0.10166252362604733\n",
      "p value for norm = 0.11792383588691657\n",
      "p value for pareto = 0.20689377516188223\n",
      "p value for pearson3 = 0.901916306025183\n",
      "p value for t = 0.11789933607903624\n",
      "p value for weibull_min = 5.27173796070099e-35\n",
      "p value for weibull_max = 3.5844516414412845e-36\n",
      "Best fitting distribution: genexpon\n",
      "Best p value: 0.9053619222671268\n",
      "Parameters for the best fit: (0.40696180350275335, 3.2946154317583094, 0.011758858761911004, 16709.753058520375, 5128.51536932069)\n"
     ]
    },
    {
     "data": {
      "text/plain": [
       "('genexpon',\n",
       " 0.9053619222671268,\n",
       " (0.40696180350275335,\n",
       "  3.2946154317583094,\n",
       "  0.011758858761911004,\n",
       "  16709.753058520375,\n",
       "  5128.51536932069))"
      ]
     },
     "execution_count": 97,
     "metadata": {},
     "output_type": "execute_result"
    }
   ],
   "source": [
    "get_best_distribution(df['Rating'])"
   ]
  },
  {
   "cell_type": "markdown",
   "metadata": {},
   "source": [
    "Рейтинг процессоров распределен по обобщенному экспоненциальному закону распределения непрерывных случайных величин"
   ]
  },
  {
   "cell_type": "code",
   "execution_count": 98,
   "metadata": {},
   "outputs": [
    {
     "name": "stdout",
     "output_type": "stream",
     "text": [
      "p value for dweibull = 0.05961717023225921\n",
      "p value for expon = 0.8469326811646917\n",
      "p value for exponweib = 0.729453085390573\n",
      "p value for exponpow = 0.9582433183977335\n",
      "p value for genpareto = 0.7701827818143586\n",
      "p value for genexpon = 0.9486967559943063\n",
      "p value for gausshyper = 0.41503689043933856\n",
      "p value for halfnorm = 0.08063749959310751\n",
      "p value for laplace = 0.07429570592072166\n",
      "p value for logistic = 0.09527045526959932\n",
      "p value for loggamma = 0.08814963453814462\n",
      "p value for loglaplace = 0.295415678431294\n",
      "p value for lognorm = 1.655014790016294e-28\n",
      "p value for lomax = 0.8761682885876007\n",
      "p value for maxwell = 0.21012564069390038\n",
      "p value for norm = 0.12407186526720604\n",
      "p value for pareto = 0.06315402511094503\n",
      "p value for pearson3 = 0.41749726486670913\n",
      "p value for t = 0.08145406445138559\n",
      "p value for weibull_min = 0.9705331218942248\n",
      "p value for weibull_max = 2.969062885762455e-39\n",
      "Best fitting distribution: weibull_min\n",
      "Best p value: 0.9705331218942248\n",
      "Parameters for the best fit: (0.9341737982630365, 42247.99999999999, 174585.51617723968)\n"
     ]
    },
    {
     "data": {
      "text/plain": [
       "('weibull_min',\n",
       " 0.9705331218942248,\n",
       " (0.9341737982630365, 42247.99999999999, 174585.51617723968))"
      ]
     },
     "execution_count": 98,
     "metadata": {},
     "output_type": "execute_result"
    }
   ],
   "source": [
    "get_best_distribution(df['Price'])"
   ]
  },
  {
   "cell_type": "markdown",
   "metadata": {},
   "source": [
    "Цены на процессоры по своему распределению ближе к закону распределения минимальных экстремальных значений случайных величин Вейбулла."
   ]
  },
  {
   "cell_type": "code",
   "execution_count": 99,
   "metadata": {},
   "outputs": [
    {
     "data": {
      "text/html": [
       "<div>\n",
       "<style scoped>\n",
       "    .dataframe tbody tr th:only-of-type {\n",
       "        vertical-align: middle;\n",
       "    }\n",
       "\n",
       "    .dataframe tbody tr th {\n",
       "        vertical-align: top;\n",
       "    }\n",
       "\n",
       "    .dataframe thead th {\n",
       "        text-align: right;\n",
       "    }\n",
       "</style>\n",
       "<table border=\"1\" class=\"dataframe\">\n",
       "  <thead>\n",
       "    <tr style=\"text-align: right;\">\n",
       "      <th></th>\n",
       "      <th>Rating</th>\n",
       "      <th>Price</th>\n",
       "    </tr>\n",
       "  </thead>\n",
       "  <tbody>\n",
       "    <tr>\n",
       "      <th>Rating</th>\n",
       "      <td>1.000000</td>\n",
       "      <td>0.584729</td>\n",
       "    </tr>\n",
       "    <tr>\n",
       "      <th>Price</th>\n",
       "      <td>0.584729</td>\n",
       "      <td>1.000000</td>\n",
       "    </tr>\n",
       "  </tbody>\n",
       "</table>\n",
       "</div>"
      ],
      "text/plain": [
       "          Rating     Price\n",
       "Rating  1.000000  0.584729\n",
       "Price   0.584729  1.000000"
      ]
     },
     "execution_count": 99,
     "metadata": {},
     "output_type": "execute_result"
    }
   ],
   "source": [
    "# Проверим корреляцию по методу Кендалла\n",
    "df.corr(method='kendall')"
   ]
  },
  {
   "cell_type": "code",
   "execution_count": 100,
   "metadata": {},
   "outputs": [
    {
     "data": {
      "text/html": [
       "<div>\n",
       "<style scoped>\n",
       "    .dataframe tbody tr th:only-of-type {\n",
       "        vertical-align: middle;\n",
       "    }\n",
       "\n",
       "    .dataframe tbody tr th {\n",
       "        vertical-align: top;\n",
       "    }\n",
       "\n",
       "    .dataframe thead th {\n",
       "        text-align: right;\n",
       "    }\n",
       "</style>\n",
       "<table border=\"1\" class=\"dataframe\">\n",
       "  <thead>\n",
       "    <tr style=\"text-align: right;\">\n",
       "      <th></th>\n",
       "      <th>Rating</th>\n",
       "      <th>Price</th>\n",
       "    </tr>\n",
       "  </thead>\n",
       "  <tbody>\n",
       "    <tr>\n",
       "      <th>Rating</th>\n",
       "      <td>1.00000</td>\n",
       "      <td>0.77721</td>\n",
       "    </tr>\n",
       "    <tr>\n",
       "      <th>Price</th>\n",
       "      <td>0.77721</td>\n",
       "      <td>1.00000</td>\n",
       "    </tr>\n",
       "  </tbody>\n",
       "</table>\n",
       "</div>"
      ],
      "text/plain": [
       "         Rating    Price\n",
       "Rating  1.00000  0.77721\n",
       "Price   0.77721  1.00000"
      ]
     },
     "execution_count": 100,
     "metadata": {},
     "output_type": "execute_result"
    }
   ],
   "source": [
    "# Проверим корреляцию по методу Спирмана\n",
    "df.corr(method='spearman')"
   ]
  },
  {
   "cell_type": "markdown",
   "metadata": {},
   "source": [
    "Величины имеют достаточно высокую корреляцию"
   ]
  },
  {
   "cell_type": "raw",
   "metadata": {},
   "source": [
    "Возьмём в качестве признака значение rating, а в качестве целевой переменной - price."
   ]
  },
  {
   "cell_type": "code",
   "execution_count": 101,
   "metadata": {},
   "outputs": [],
   "source": [
    "x1 = df.Rating\n",
    "y1 = df.Price"
   ]
  },
  {
   "cell_type": "code",
   "execution_count": 102,
   "metadata": {},
   "outputs": [
    {
     "data": {
      "text/plain": [
       "((50,), (50,))"
      ]
     },
     "execution_count": 102,
     "metadata": {},
     "output_type": "execute_result"
    }
   ],
   "source": [
    "x1.shape, y1.shape"
   ]
  },
  {
   "cell_type": "code",
   "execution_count": 103,
   "metadata": {},
   "outputs": [
    {
     "data": {
      "text/plain": [
       "(-218640.60043793052, 16.22076287641453)"
      ]
     },
     "execution_count": 103,
     "metadata": {},
     "output_type": "execute_result"
    }
   ],
   "source": [
    "# Найдем коэффициенты линейной регрессии.\n",
    "b1 = (np.mean(x1 * y1) - np.mean(x1) * np.mean(y1)) / (np.mean(x1 ** 2) - np.mean(x1) ** 2)\n",
    "b0 = np.mean(y1) - b1 * np.mean(x1)\n",
    "\n",
    "b0, b1"
   ]
  },
  {
   "cell_type": "markdown",
   "metadata": {},
   "source": [
    "Модель линейной регрессии имеет вид:\n",
    "$$y = -218640.60 + 16.22 \\cdot x,$$ \n",
    "т.е. с увеличением производительности на 1 пункт цена на процессор возрастает на  16.22 рубля."
   ]
  },
  {
   "cell_type": "markdown",
   "metadata": {},
   "source": [
    "Для проверки найдем коэффициенты методом наименьших квадратов"
   ]
  },
  {
   "cell_type": "code",
   "execution_count": 104,
   "metadata": {},
   "outputs": [
    {
     "data": {
      "text/plain": [
       "((50,), (50,))"
      ]
     },
     "execution_count": 104,
     "metadata": {},
     "output_type": "execute_result"
    }
   ],
   "source": [
    "x1.shape, y1.shape"
   ]
  },
  {
   "cell_type": "code",
   "execution_count": 105,
   "metadata": {},
   "outputs": [
    {
     "data": {
      "text/plain": [
       "(50, 2)"
      ]
     },
     "execution_count": 105,
     "metadata": {},
     "output_type": "execute_result"
    }
   ],
   "source": [
    "ones = np.ones((x1.shape[0], 1)).T\n",
    "x2 = np.vstack([ones, x1]).T\n",
    "x2.shape"
   ]
  },
  {
   "cell_type": "code",
   "execution_count": 106,
   "metadata": {},
   "outputs": [
    {
     "data": {
      "text/plain": [
       "222747935639.30856"
      ]
     },
     "execution_count": 106,
     "metadata": {},
     "output_type": "execute_result"
    }
   ],
   "source": [
    "XTX = x2.T.dot(x2)\n",
    "np.linalg.det(XTX)"
   ]
  },
  {
   "cell_type": "markdown",
   "metadata": {},
   "source": [
    "Определиетль не близок к 0, можно искать коэффициенты"
   ]
  },
  {
   "cell_type": "code",
   "execution_count": 107,
   "metadata": {},
   "outputs": [
    {
     "data": {
      "text/plain": [
       "array([-2.18640600e+05,  1.62207629e+01])"
      ]
     },
     "execution_count": 107,
     "metadata": {},
     "output_type": "execute_result"
    }
   ],
   "source": [
    "XTX_inv = np.linalg.inv(XTX)\n",
    "b = XTX_inv.dot(x2.T).dot(y1)\n",
    "b"
   ]
  },
  {
   "cell_type": "code",
   "execution_count": 108,
   "metadata": {},
   "outputs": [
    {
     "data": {
      "text/plain": [
       "(-218640.60043793052,\n",
       " -218640.60043793183,\n",
       " 16.22076287641453,\n",
       " 16.220762876414575)"
      ]
     },
     "execution_count": 108,
     "metadata": {},
     "output_type": "execute_result"
    }
   ],
   "source": [
    "b0, b[0], b1, b[1]"
   ]
  },
  {
   "cell_type": "markdown",
   "metadata": {},
   "source": [
    "Полученные разными методами коэффициенты максимально близки"
   ]
  },
  {
   "cell_type": "markdown",
   "metadata": {},
   "source": [
    "Визуализируем даные"
   ]
  },
  {
   "cell_type": "code",
   "execution_count": 109,
   "metadata": {},
   "outputs": [],
   "source": [
    "from matplotlib import pyplot as plt\n",
    "plt.style.use('seaborn-whitegrid')"
   ]
  },
  {
   "cell_type": "code",
   "execution_count": 110,
   "metadata": {},
   "outputs": [
    {
     "data": {
      "text/plain": [
       "Text(0, 0.5, 'цена')"
      ]
     },
     "execution_count": 110,
     "metadata": {},
     "output_type": "execute_result"
    },
    {
     "data": {
      "image/png": "[encoded data removed]",
      "text/plain": [
       "<Figure size 432x288 with 1 Axes>"
      ]
     },
     "metadata": {},
     "output_type": "display_data"
    }
   ],
   "source": [
    "ox = x1\n",
    "oy = b0 + b1 * ox\n",
    "\n",
    "plt.scatter(x1, y1)\n",
    "plt.plot(ox, oy, color='red', alpha=0.5)\n",
    "\n",
    "plt.xlabel('производительность')\n",
    "plt.ylabel('цена')"
   ]
  },
  {
   "cell_type": "markdown",
   "metadata": {},
   "source": [
    "Посчитаем коэффициент детерминации"
   ]
  },
  {
   "cell_type": "code",
   "execution_count": 111,
   "metadata": {},
   "outputs": [],
   "source": [
    "def sum_of_squares(samples):\n",
    "    return ((samples - samples.mean()) ** 2).sum()"
   ]
  },
  {
   "cell_type": "code",
   "execution_count": 112,
   "metadata": {},
   "outputs": [],
   "source": [
    "z1 = b0 + b1 * x1"
   ]
  },
  {
   "cell_type": "code",
   "execution_count": 113,
   "metadata": {},
   "outputs": [
    {
     "data": {
      "text/plain": [
       "0.6658356409616176"
      ]
     },
     "execution_count": 113,
     "metadata": {},
     "output_type": "execute_result"
    }
   ],
   "source": [
    "R1 = 1 - ((y1 - z1)**2).sum() / sum_of_squares(y1)\n",
    "R1"
   ]
  },
  {
   "cell_type": "markdown",
   "metadata": {},
   "source": [
    "Модель объясняет 66% дисперсии"
   ]
  },
  {
   "cell_type": "markdown",
   "metadata": {},
   "source": [
    "Оценим построенное уравнение регрессии с помощью F-критерия Фишера"
   ]
  },
  {
   "cell_type": "code",
   "execution_count": 114,
   "metadata": {},
   "outputs": [
    {
     "data": {
      "text/plain": [
       "(1, 48)"
      ]
     },
     "execution_count": 114,
     "metadata": {},
     "output_type": "execute_result"
    }
   ],
   "source": [
    "n = x1.shape[0]\n",
    "m = 1\n",
    "\n",
    "k1 = m\n",
    "k2 = n - m - 1\n",
    "\n",
    "k1, k2"
   ]
  },
  {
   "cell_type": "code",
   "execution_count": 115,
   "metadata": {},
   "outputs": [
    {
     "data": {
      "text/plain": [
       "4.042652128566653"
      ]
     },
     "execution_count": 115,
     "metadata": {},
     "output_type": "execute_result"
    }
   ],
   "source": [
    "alpha = 0.05\n",
    "\n",
    "t = stats.f.ppf(1 - alpha, k1, k2)\n",
    "t"
   ]
  },
  {
   "cell_type": "markdown",
   "metadata": {},
   "source": [
    "Критическая область:\n",
    "$$\\Omega_\\alpha = \\left( 4.04, \\infty \\right)$$"
   ]
  },
  {
   "cell_type": "code",
   "execution_count": 116,
   "metadata": {},
   "outputs": [
    {
     "data": {
      "text/plain": [
       "95.64188969203231"
      ]
     },
     "execution_count": 116,
     "metadata": {},
     "output_type": "execute_result"
    }
   ],
   "source": [
    "F = (R1 / k1) / ((1 - R1) / k2)\n",
    "F"
   ]
  },
  {
   "cell_type": "markdown",
   "metadata": {},
   "source": [
    "Статистика попала в критическую область, уравнение регрессии признаётся значимым."
   ]
  },
  {
   "cell_type": "markdown",
   "metadata": {},
   "source": [
    "Посчитаем среднюю ошибку аппроксимации"
   ]
  },
  {
   "cell_type": "code",
   "execution_count": 117,
   "metadata": {},
   "outputs": [],
   "source": [
    "def mean_approximation_error(y_real, y_pred):\n",
    "    return np.abs((y_real - y_pred) / y_real).mean()"
   ]
  },
  {
   "cell_type": "code",
   "execution_count": 118,
   "metadata": {},
   "outputs": [
    {
     "data": {
      "text/plain": [
       "0.5021678624989988"
      ]
     },
     "execution_count": 118,
     "metadata": {},
     "output_type": "execute_result"
    }
   ],
   "source": [
    "mean_approximation_error(y1, z1)"
   ]
  },
  {
   "cell_type": "markdown",
   "metadata": {},
   "source": [
    "Значение средней ошибки аппроксимации более 50% - модель линейной регрессии выдает значения очень отдаленные от реальных данных."
   ]
  },
  {
   "cell_type": "markdown",
   "metadata": {},
   "source": [
    "#### Проверим зависимость цены от производительностиотдельно по AMD и Intel"
   ]
  },
  {
   "cell_type": "code",
   "execution_count": 119,
   "metadata": {},
   "outputs": [
    {
     "data": {
      "text/plain": [
       "((35, 4), (15, 4))"
      ]
     },
     "execution_count": 119,
     "metadata": {},
     "output_type": "execute_result"
    }
   ],
   "source": [
    "amd = df[df['Manufacturer'] == 'AMD']\n",
    "intel = df[df['Manufacturer'] == 'Intel']\n",
    "amd.shape, intel.shape"
   ]
  },
  {
   "cell_type": "code",
   "execution_count": 120,
   "metadata": {},
   "outputs": [],
   "source": [
    "x1 = amd.Rating\n",
    "y1 = amd.Price\n",
    "x2 = intel.Rating\n",
    "y2 = intel.Price"
   ]
  },
  {
   "cell_type": "code",
   "execution_count": 121,
   "metadata": {},
   "outputs": [
    {
     "name": "stdout",
     "output_type": "stream",
     "text": [
      "  AMD - b0: -256692.83877760576 b1: 17.232290103369273\n",
      "Intel - b0: -104121.06313612513 b1: 11.853734564985004\n"
     ]
    }
   ],
   "source": [
    "# Найдем коэффициенты линейной регрессии.\n",
    "b11 = (np.mean(x1 * y1) - np.mean(x1) * np.mean(y1)) / (np.mean(x1 ** 2) - np.mean(x1) ** 2)\n",
    "b01 = np.mean(y1) - b11 * np.mean(x1)\n",
    "b12 = (np.mean(x2 * y2) - np.mean(x2) * np.mean(y2)) / (np.mean(x2 ** 2) - np.mean(x2) ** 2)\n",
    "b02 = np.mean(y2) - b12 * np.mean(x2)\n",
    "\n",
    "print(f'  AMD - b0: {b01} b1: {b11}')\n",
    "print(f'Intel - b0: {b02} b1: {b12}')"
   ]
  },
  {
   "cell_type": "code",
   "execution_count": 122,
   "metadata": {},
   "outputs": [],
   "source": [
    "z1 = b01 + b11 * x1\n",
    "z2 = b02 + b12 * x2"
   ]
  },
  {
   "cell_type": "code",
   "execution_count": 123,
   "metadata": {},
   "outputs": [
    {
     "data": {
      "text/plain": [
       "(0.6625269802012514, 0.5164809726746912)"
      ]
     },
     "execution_count": 123,
     "metadata": {},
     "output_type": "execute_result"
    }
   ],
   "source": [
    "R1 = 1 - ((y1 - z1)**2).sum() / sum_of_squares(y1)\n",
    "R2 = 1 - ((y2 - z2)**2).sum() / sum_of_squares(y2)\n",
    "R1, R2"
   ]
  },
  {
   "cell_type": "markdown",
   "metadata": {},
   "source": [
    "Модель объясняет 66% дисперсии по процессорам AMD и 51% по процессорам Intel"
   ]
  },
  {
   "cell_type": "markdown",
   "metadata": {},
   "source": [
    "Посчитаем среднюю ошибку аппроксимации"
   ]
  },
  {
   "cell_type": "code",
   "execution_count": 124,
   "metadata": {},
   "outputs": [
    {
     "data": {
      "text/plain": [
       "0.5318360724364977"
      ]
     },
     "execution_count": 124,
     "metadata": {},
     "output_type": "execute_result"
    }
   ],
   "source": [
    "mean_approximation_error(y1, z1)"
   ]
  },
  {
   "cell_type": "code",
   "execution_count": 125,
   "metadata": {},
   "outputs": [
    {
     "data": {
      "text/plain": [
       "0.3501348236391936"
      ]
     },
     "execution_count": 125,
     "metadata": {},
     "output_type": "execute_result"
    }
   ],
   "source": [
    "mean_approximation_error(y2, z2)"
   ]
  },
  {
   "cell_type": "markdown",
   "metadata": {},
   "source": [
    "Значение средней ошибки аппроксимации по процессорам AMD более 53%, по Intel - 35%. Модель линейной регрессии при разделении по производителям также выдает значения очень отдаленные от реальных данных, но по процессорам Intel немного ближе к фактическим."
   ]
  },
  {
   "cell_type": "markdown",
   "metadata": {},
   "source": [
    "В целом, очевидно, что на цену процессора влияет не только его производительность. На нее оказывает влияние большое количество факторов и построить модель, которая будет выдавать расчетные значения близкие к реальным затруднительно, к тому же выборка и сама генеральная совокупность не очень большие."
   ]
  },
  {
   "cell_type": "markdown",
   "metadata": {},
   "source": [
    "#### Проведем дисперсионный анализ по производительности и ценам на прицессоры AMD и Intel"
   ]
  },
  {
   "cell_type": "markdown",
   "metadata": {},
   "source": [
    "Выдвинем гепотезы, что средняя производительность и средняя цена у обоих производителей процессоров одинакова"
   ]
  },
  {
   "cell_type": "code",
   "execution_count": 156,
   "metadata": {},
   "outputs": [],
   "source": [
    "y1 = amd.Price\n",
    "y2 = intel.Price\n",
    "\n",
    "y3 = amd.Rating\n",
    "y4 = intel.Rating\n",
    "\n",
    "n1 = y1.shape[0]\n",
    "n2 = y2.shape[0]\n",
    "n3 = y3.shape[0]\n",
    "n4 = y4.shape[0]\n",
    "\n",
    "n12 = n1 + n2\n",
    "n34 = n3 + n4"
   ]
  },
  {
   "cell_type": "code",
   "execution_count": 134,
   "metadata": {},
   "outputs": [
    {
     "data": {
      "text/plain": [
       "(256282.85714285713,\n",
       " 156434.06666666668,\n",
       " 29768.283428571423,\n",
       " 21980.847333333335)"
      ]
     },
     "execution_count": 134,
     "metadata": {},
     "output_type": "execute_result"
    }
   ],
   "source": [
    "y1_mean = y1.mean()\n",
    "y2_mean = y2.mean()\n",
    "y3_mean = y3.mean()\n",
    "y4_mean = y4.mean()\n",
    "y1_mean, y2_mean, y3_mean, y4_mean"
   ]
  },
  {
   "cell_type": "code",
   "execution_count": 135,
   "metadata": {},
   "outputs": [],
   "source": [
    "y_1 = np.concatenate([y1, y2])\n",
    "y_2 = np.concatenate([y3, y4])"
   ]
  },
  {
   "cell_type": "code",
   "execution_count": 138,
   "metadata": {},
   "outputs": [
    {
     "data": {
      "text/plain": [
       "(226328.22, 27432.052600000003)"
      ]
     },
     "execution_count": 138,
     "metadata": {},
     "output_type": "execute_result"
    }
   ],
   "source": [
    "y_1_mean = y_1.mean()\n",
    "y_2_mean = y_2.mean()\n",
    "y_1_mean, y_2_mean"
   ]
  },
  {
   "cell_type": "markdown",
   "metadata": {},
   "source": [
    "Найдём значения $S_b$ и $S_{w}$:"
   ]
  },
  {
   "cell_type": "code",
   "execution_count": 137,
   "metadata": {},
   "outputs": [
    {
     "data": {
      "text/plain": [
       "(104682700075.36092, 1655749064651.219)"
      ]
     },
     "execution_count": 137,
     "metadata": {},
     "output_type": "execute_result"
    }
   ],
   "source": [
    "# По ценам на процессоры\n",
    "S2_b1 = n1 * (y1_mean - y_1_mean) ** 2 + n2 * (y2_mean - y_1_mean) ** 2\n",
    "S2_w1 = ((y1 - y1_mean) ** 2).sum() + ((y2 - y2_mean) ** 2).sum()\n",
    "\n",
    "S2_b1, S2_w1"
   ]
  },
  {
   "cell_type": "code",
   "execution_count": 139,
   "metadata": {},
   "outputs": [
    {
     "data": {
      "text/plain": [
       "(636763689.842879, 3818195022.943282)"
      ]
     },
     "execution_count": 139,
     "metadata": {},
     "output_type": "execute_result"
    }
   ],
   "source": [
    "# По рейтингу произвоодительности процессоров\n",
    "S2_b2 = n3 * (y3_mean - y_2_mean) ** 2 + n4 * (y4_mean - y_2_mean) ** 2\n",
    "S2_w2 = ((y3 - y3_mean) ** 2).sum() + ((y4 - y4_mean) ** 2).sum()\n",
    "\n",
    "S2_b2, S2_w2"
   ]
  },
  {
   "cell_type": "markdown",
   "metadata": {},
   "source": [
    "Проверим выполнение равенства $S^2 = S_b^2 + S_{w}^2:$"
   ]
  },
  {
   "cell_type": "code",
   "execution_count": 154,
   "metadata": {},
   "outputs": [
    {
     "data": {
      "text/plain": [
       "True"
      ]
     },
     "execution_count": 154,
     "metadata": {},
     "output_type": "execute_result"
    }
   ],
   "source": [
    "round(S2_b1 + S2_w1, 3) == round(((y_1 - y_1_mean) ** 2).sum(), 3)"
   ]
  },
  {
   "cell_type": "code",
   "execution_count": 153,
   "metadata": {},
   "outputs": [
    {
     "data": {
      "text/plain": [
       "True"
      ]
     },
     "execution_count": 153,
     "metadata": {},
     "output_type": "execute_result"
    }
   ],
   "source": [
    "round(S2_b2 + S2_w2, 3) == round(((y_2 - y_2_mean) ** 2).sum(), 3)"
   ]
  },
  {
   "cell_type": "code",
   "execution_count": 165,
   "metadata": {},
   "outputs": [
    {
     "data": {
      "text/plain": [
       "(104682700075.36092, 34494772180.23373, 636763689.842879, 79545729.64465171)"
      ]
     },
     "execution_count": 165,
     "metadata": {},
     "output_type": "execute_result"
    }
   ],
   "source": [
    "# Найдем оценки дисперсий\n",
    "k = 2\n",
    "k1 = k - 1\n",
    "k2 = n12 - k\n",
    "\n",
    "k3 = k1\n",
    "k4 = n34 - k\n",
    "\n",
    "sigma2_b1 = S2_b1 / k1\n",
    "sigma2_w1 = S2_w1 / k2\n",
    "\n",
    "sigma2_b2 = S2_b2 / k3\n",
    "sigma2_w2 = S2_w2 / k4\n",
    "\n",
    "sigma2_b1, sigma2_w1, sigma2_b2, sigma2_w2"
   ]
  },
  {
   "cell_type": "markdown",
   "metadata": {},
   "source": [
    "Найдем значение статистики $T$:"
   ]
  },
  {
   "cell_type": "code",
   "execution_count": 163,
   "metadata": {},
   "outputs": [
    {
     "data": {
      "text/plain": [
       "(3.034741018969432, 8.005001559322451)"
      ]
     },
     "execution_count": 163,
     "metadata": {},
     "output_type": "execute_result"
    }
   ],
   "source": [
    "T1 = sigma2_b1 / sigma2_w1\n",
    "T2 = sigma2_b2 / sigma2_w2\n",
    "T1, T2"
   ]
  },
  {
   "cell_type": "markdown",
   "metadata": {},
   "source": [
    "Зафиксируем уровень значимости $\\alpha = 0.05$. Для него найдём критическое значение $F_{crit}$:"
   ]
  },
  {
   "cell_type": "code",
   "execution_count": 164,
   "metadata": {},
   "outputs": [
    {
     "data": {
      "text/plain": [
       "(4.042652128566653, 4.042652128566653)"
      ]
     },
     "execution_count": 164,
     "metadata": {},
     "output_type": "execute_result"
    }
   ],
   "source": [
    "alpha = 0.05\n",
    "\n",
    "F_crit1 = stats.f.ppf(1 - alpha, k1, k2)\n",
    "F_crit2 = stats.f.ppf(1 - alpha, k3, k4)\n",
    "F_crit1, F_crit2"
   ]
  },
  {
   "cell_type": "markdown",
   "metadata": {},
   "source": [
    "Найдем p-value"
   ]
  },
  {
   "cell_type": "code",
   "execution_count": 167,
   "metadata": {},
   "outputs": [
    {
     "data": {
      "text/plain": [
       "(0.08790461947231643, 0.0067896260850813794)"
      ]
     },
     "execution_count": 167,
     "metadata": {},
     "output_type": "execute_result"
    }
   ],
   "source": [
    "p1 = 1 - stats.f.cdf(T1, k1, k2)\n",
    "p2 = 1 - stats.f.cdf(T2, k3, k4)\n",
    "p1, p2"
   ]
  },
  {
   "cell_type": "markdown",
   "metadata": {},
   "source": [
    "Проверим встроенными методами"
   ]
  },
  {
   "cell_type": "code",
   "execution_count": 174,
   "metadata": {},
   "outputs": [],
   "source": [
    "from scipy.stats import f_oneway\n",
    "stat1 = f_oneway(y1, y2)"
   ]
  },
  {
   "cell_type": "code",
   "execution_count": 175,
   "metadata": {},
   "outputs": [],
   "source": [
    "stat2 = f_oneway(y3, y4)"
   ]
  },
  {
   "cell_type": "code",
   "execution_count": 177,
   "metadata": {},
   "outputs": [
    {
     "name": "stdout",
     "output_type": "stream",
     "text": [
      "0.08790461947231643 0.0067896260850813794\n",
      "0.08790461947231641 0.006789626085081314\n"
     ]
    }
   ],
   "source": [
    "print(p1, p2)\n",
    "print(stst1[1], stst2[1])"
   ]
  },
  {
   "cell_type": "markdown",
   "metadata": {},
   "source": [
    "Значения p-value, рассчитанные разными методами получились максимально близкими.\n",
    "\n",
    "Гипотеза о равности средних цен процессоров у производителей AMD и Intel не отвергается с уровнем значимости 0.05, т.к. p-value1 = 0,08.\n",
    "Гипотеза о равности средней производительности процессоров у производителей AMD и Intel отвергается с вероятностью ошибки 0,05, т.к. p-value2 = 0,006."
   ]
  }
 ],
 "metadata": {
  "kernelspec": {
   "display_name": "Python 3",
   "language": "python",
   "name": "python3"
  },
  "language_info": {
   "codemirror_mode": {
    "name": "ipython",
    "version": 3
   },
   "file_extension": ".py",
   "mimetype": "text/x-python",
   "name": "python",
   "nbconvert_exporter": "python",
   "pygments_lexer": "ipython3",
   "version": "3.8.5"
  }
 },
 "nbformat": 4,
 "nbformat_minor": 4
}
